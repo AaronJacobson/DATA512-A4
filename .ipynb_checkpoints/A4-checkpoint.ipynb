{
 "cells": [
  {
   "cell_type": "code",
   "execution_count": 45,
   "metadata": {},
   "outputs": [],
   "source": [
    "import pandas"
   ]
  },
  {
   "cell_type": "markdown",
   "metadata": {},
   "source": [
    "Here we store the file path information to make it easier to run with different files"
   ]
  },
  {
   "cell_type": "code",
   "execution_count": 46,
   "metadata": {},
   "outputs": [],
   "source": [
    "folder_path = \"C:\\\\Users\\\\Aaron Jacobson\\\\Documents\\\\UWMSDS\\\\Fall2021\\\\DATA512\\\\DATA512-A4\\\\\"\n",
    "folder_path = \"C:\\\\Users\\\\AaronJacobsonDesk3\\\\Documents\\\\UWMSDS\\\\Classes\\\\Fall2021\\\\DATA512\\\\DATA512-A4\\\\DATA512-A4\\\\\"\n",
    "covid_cases_file = \"RAW_us_confirmed_cases.csv\\\\RAW_us_confirmed_cases.csv\"\n",
    "covid_policy_file = \"U.S._State_and_Territorial_Public_Mask_Mandates_From_April_10__2020_through_August_15__2021_by_County_by_Day.csv\"\n",
    "mask_use_file = \"mask-use-by-county.csv\""
   ]
  },
  {
   "cell_type": "code",
   "execution_count": 47,
   "metadata": {},
   "outputs": [],
   "source": [
    "df_cases = pandas.read_csv(folder_path + covid_cases_file)\n",
    "df_policy = pandas.read_csv(folder_path + covid_policy_file)\n",
    "df_masks = pandas.read_csv(folder_path + mask_use_file)"
   ]
  },
  {
   "cell_type": "code",
   "execution_count": 48,
   "metadata": {},
   "outputs": [
    {
     "data": {
      "text/html": [
       "<div>\n",
       "<style scoped>\n",
       "    .dataframe tbody tr th:only-of-type {\n",
       "        vertical-align: middle;\n",
       "    }\n",
       "\n",
       "    .dataframe tbody tr th {\n",
       "        vertical-align: top;\n",
       "    }\n",
       "\n",
       "    .dataframe thead th {\n",
       "        text-align: right;\n",
       "    }\n",
       "</style>\n",
       "<table border=\"1\" class=\"dataframe\">\n",
       "  <thead>\n",
       "    <tr style=\"text-align: right;\">\n",
       "      <th></th>\n",
       "      <th>Province_State</th>\n",
       "      <th>Admin2</th>\n",
       "      <th>UID</th>\n",
       "      <th>iso2</th>\n",
       "      <th>iso3</th>\n",
       "      <th>code3</th>\n",
       "      <th>FIPS</th>\n",
       "      <th>Country_Region</th>\n",
       "      <th>Lat</th>\n",
       "      <th>Long_</th>\n",
       "      <th>...</th>\n",
       "      <th>10/25/21</th>\n",
       "      <th>10/26/21</th>\n",
       "      <th>10/27/21</th>\n",
       "      <th>10/28/21</th>\n",
       "      <th>10/29/21</th>\n",
       "      <th>10/30/21</th>\n",
       "      <th>10/31/21</th>\n",
       "      <th>11/1/21</th>\n",
       "      <th>11/2/21</th>\n",
       "      <th>11/3/21</th>\n",
       "    </tr>\n",
       "  </thead>\n",
       "  <tbody>\n",
       "    <tr>\n",
       "      <th>1943</th>\n",
       "      <td>New York</td>\n",
       "      <td>Queens</td>\n",
       "      <td>84036081</td>\n",
       "      <td>US</td>\n",
       "      <td>USA</td>\n",
       "      <td>840</td>\n",
       "      <td>36081.0</td>\n",
       "      <td>US</td>\n",
       "      <td>40.710881</td>\n",
       "      <td>-73.816847</td>\n",
       "      <td>...</td>\n",
       "      <td>316202</td>\n",
       "      <td>316390</td>\n",
       "      <td>316522</td>\n",
       "      <td>316522</td>\n",
       "      <td>316837</td>\n",
       "      <td>316837</td>\n",
       "      <td>316837</td>\n",
       "      <td>317545</td>\n",
       "      <td>317667</td>\n",
       "      <td>317855</td>\n",
       "    </tr>\n",
       "  </tbody>\n",
       "</table>\n",
       "<p>1 rows × 663 columns</p>\n",
       "</div>"
      ],
      "text/plain": [
       "     Province_State  Admin2       UID iso2 iso3  code3     FIPS  \\\n",
       "1943       New York  Queens  84036081   US  USA    840  36081.0   \n",
       "\n",
       "     Country_Region        Lat      Long_  ... 10/25/21  10/26/21  10/27/21  \\\n",
       "1943             US  40.710881 -73.816847  ...   316202    316390    316522   \n",
       "\n",
       "      10/28/21  10/29/21  10/30/21  10/31/21  11/1/21  11/2/21  11/3/21  \n",
       "1943    316522    316837    316837    316837   317545   317667   317855  \n",
       "\n",
       "[1 rows x 663 columns]"
      ]
     },
     "execution_count": 48,
     "metadata": {},
     "output_type": "execute_result"
    }
   ],
   "source": [
    "county_state = \"New York\"\n",
    "county_name = \"Queens\"\n",
    "\n",
    "df_cases = df_cases[df_cases['Province_State'] == county_state]\n",
    "df_cases = df_cases[df_cases['Admin2'] == county_name]\n",
    "df_cases"
   ]
  },
  {
   "cell_type": "code",
   "execution_count": 49,
   "metadata": {},
   "outputs": [],
   "source": [
    "df_cases_t = df_cases.drop([\n",
    "    'Province_State', \n",
    "    'Admin2', \n",
    "    'UID', \n",
    "    'iso2', \n",
    "    'iso3', \n",
    "    'code3', \n",
    "    'FIPS', \n",
    "    'Country_Region', \n",
    "    'Lat', \n",
    "    'Long_',\n",
    "    'Combined_Key'], axis=1).transpose().rename({1943:'Cases'}, axis=1)"
   ]
  },
  {
   "cell_type": "code",
   "execution_count": 50,
   "metadata": {},
   "outputs": [],
   "source": [
    "df_policy_queens = df_policy[df_policy['County_Name'] == 'Queens County']"
   ]
  },
  {
   "cell_type": "code",
   "execution_count": 51,
   "metadata": {},
   "outputs": [],
   "source": [
    "county_fips = df_cases['FIPS'].values[0]"
   ]
  },
  {
   "cell_type": "code",
   "execution_count": 52,
   "metadata": {},
   "outputs": [],
   "source": [
    "df_masks_queens = df_masks[df_masks['COUNTYFP'] == county_fips]"
   ]
  },
  {
   "cell_type": "code",
   "execution_count": 53,
   "metadata": {},
   "outputs": [],
   "source": [
    "df_cases_t['increase'] = df_cases_t['Cases'] - df_cases_t.shift(1)['Cases']"
   ]
  },
  {
   "cell_type": "code",
   "execution_count": 54,
   "metadata": {},
   "outputs": [
    {
     "data": {
      "text/html": [
       "<div>\n",
       "<style scoped>\n",
       "    .dataframe tbody tr th:only-of-type {\n",
       "        vertical-align: middle;\n",
       "    }\n",
       "\n",
       "    .dataframe tbody tr th {\n",
       "        vertical-align: top;\n",
       "    }\n",
       "\n",
       "    .dataframe thead th {\n",
       "        text-align: right;\n",
       "    }\n",
       "</style>\n",
       "<table border=\"1\" class=\"dataframe\">\n",
       "  <thead>\n",
       "    <tr style=\"text-align: right;\">\n",
       "      <th></th>\n",
       "      <th>Cases</th>\n",
       "      <th>increase</th>\n",
       "      <th>increase_percent</th>\n",
       "    </tr>\n",
       "  </thead>\n",
       "  <tbody>\n",
       "    <tr>\n",
       "      <th>1/22/20</th>\n",
       "      <td>0</td>\n",
       "      <td>NaN</td>\n",
       "      <td>NaN</td>\n",
       "    </tr>\n",
       "    <tr>\n",
       "      <th>1/23/20</th>\n",
       "      <td>0</td>\n",
       "      <td>0.0</td>\n",
       "      <td>NaN</td>\n",
       "    </tr>\n",
       "    <tr>\n",
       "      <th>1/24/20</th>\n",
       "      <td>0</td>\n",
       "      <td>0.0</td>\n",
       "      <td>NaN</td>\n",
       "    </tr>\n",
       "    <tr>\n",
       "      <th>1/25/20</th>\n",
       "      <td>0</td>\n",
       "      <td>0.0</td>\n",
       "      <td>NaN</td>\n",
       "    </tr>\n",
       "    <tr>\n",
       "      <th>1/26/20</th>\n",
       "      <td>0</td>\n",
       "      <td>0.0</td>\n",
       "      <td>NaN</td>\n",
       "    </tr>\n",
       "    <tr>\n",
       "      <th>...</th>\n",
       "      <td>...</td>\n",
       "      <td>...</td>\n",
       "      <td>...</td>\n",
       "    </tr>\n",
       "    <tr>\n",
       "      <th>10/30/21</th>\n",
       "      <td>316837</td>\n",
       "      <td>0.0</td>\n",
       "      <td>0.000000</td>\n",
       "    </tr>\n",
       "    <tr>\n",
       "      <th>10/31/21</th>\n",
       "      <td>316837</td>\n",
       "      <td>0.0</td>\n",
       "      <td>0.000000</td>\n",
       "    </tr>\n",
       "    <tr>\n",
       "      <th>11/1/21</th>\n",
       "      <td>317545</td>\n",
       "      <td>708.0</td>\n",
       "      <td>0.002230</td>\n",
       "    </tr>\n",
       "    <tr>\n",
       "      <th>11/2/21</th>\n",
       "      <td>317667</td>\n",
       "      <td>122.0</td>\n",
       "      <td>0.000384</td>\n",
       "    </tr>\n",
       "    <tr>\n",
       "      <th>11/3/21</th>\n",
       "      <td>317855</td>\n",
       "      <td>188.0</td>\n",
       "      <td>0.000591</td>\n",
       "    </tr>\n",
       "  </tbody>\n",
       "</table>\n",
       "<p>652 rows × 3 columns</p>\n",
       "</div>"
      ],
      "text/plain": [
       "           Cases  increase  increase_percent\n",
       "1/22/20        0       NaN               NaN\n",
       "1/23/20        0       0.0               NaN\n",
       "1/24/20        0       0.0               NaN\n",
       "1/25/20        0       0.0               NaN\n",
       "1/26/20        0       0.0               NaN\n",
       "...          ...       ...               ...\n",
       "10/30/21  316837       0.0          0.000000\n",
       "10/31/21  316837       0.0          0.000000\n",
       "11/1/21   317545     708.0          0.002230\n",
       "11/2/21   317667     122.0          0.000384\n",
       "11/3/21   317855     188.0          0.000591\n",
       "\n",
       "[652 rows x 3 columns]"
      ]
     },
     "execution_count": 54,
     "metadata": {},
     "output_type": "execute_result"
    }
   ],
   "source": [
    "df_cases_t['increase_percent'] = df_cases_t['increase'] / df_cases_t['Cases']\n",
    "df_cases_t"
   ]
  },
  {
   "cell_type": "code",
   "execution_count": 55,
   "metadata": {},
   "outputs": [],
   "source": [
    "df_cases_t['vel_increase'] = df_cases_t['increase'] - df_cases_t.shift(1)['increase']"
   ]
  },
  {
   "cell_type": "code",
   "execution_count": 56,
   "metadata": {},
   "outputs": [],
   "source": [
    "df_policy_queens = df_policy_queens[['date','Face_Masks_Required_in_Public']]\n"
   ]
  },
  {
   "cell_type": "code",
   "execution_count": 57,
   "metadata": {},
   "outputs": [
    {
     "data": {
      "text/html": [
       "<div>\n",
       "<style scoped>\n",
       "    .dataframe tbody tr th:only-of-type {\n",
       "        vertical-align: middle;\n",
       "    }\n",
       "\n",
       "    .dataframe tbody tr th {\n",
       "        vertical-align: top;\n",
       "    }\n",
       "\n",
       "    .dataframe thead th {\n",
       "        text-align: right;\n",
       "    }\n",
       "</style>\n",
       "<table border=\"1\" class=\"dataframe\">\n",
       "  <thead>\n",
       "    <tr style=\"text-align: right;\">\n",
       "      <th></th>\n",
       "      <th>date</th>\n",
       "      <th>Face_Masks_Required_in_Public</th>\n",
       "    </tr>\n",
       "  </thead>\n",
       "  <tbody>\n",
       "    <tr>\n",
       "      <th>497138</th>\n",
       "      <td>4/10/2020</td>\n",
       "      <td>NaN</td>\n",
       "    </tr>\n",
       "    <tr>\n",
       "      <th>497139</th>\n",
       "      <td>4/11/2020</td>\n",
       "      <td>NaN</td>\n",
       "    </tr>\n",
       "    <tr>\n",
       "      <th>497140</th>\n",
       "      <td>4/12/2020</td>\n",
       "      <td>NaN</td>\n",
       "    </tr>\n",
       "    <tr>\n",
       "      <th>497141</th>\n",
       "      <td>4/13/2020</td>\n",
       "      <td>NaN</td>\n",
       "    </tr>\n",
       "    <tr>\n",
       "      <th>497142</th>\n",
       "      <td>4/14/2020</td>\n",
       "      <td>NaN</td>\n",
       "    </tr>\n",
       "    <tr>\n",
       "      <th>...</th>\n",
       "      <td>...</td>\n",
       "      <td>...</td>\n",
       "    </tr>\n",
       "    <tr>\n",
       "      <th>1284236</th>\n",
       "      <td>8/11/2021</td>\n",
       "      <td>No</td>\n",
       "    </tr>\n",
       "    <tr>\n",
       "      <th>1284237</th>\n",
       "      <td>8/12/2021</td>\n",
       "      <td>No</td>\n",
       "    </tr>\n",
       "    <tr>\n",
       "      <th>1284238</th>\n",
       "      <td>8/13/2021</td>\n",
       "      <td>No</td>\n",
       "    </tr>\n",
       "    <tr>\n",
       "      <th>1284239</th>\n",
       "      <td>8/14/2021</td>\n",
       "      <td>No</td>\n",
       "    </tr>\n",
       "    <tr>\n",
       "      <th>1284240</th>\n",
       "      <td>8/15/2021</td>\n",
       "      <td>No</td>\n",
       "    </tr>\n",
       "  </tbody>\n",
       "</table>\n",
       "<p>493 rows × 2 columns</p>\n",
       "</div>"
      ],
      "text/plain": [
       "              date Face_Masks_Required_in_Public\n",
       "497138   4/10/2020                           NaN\n",
       "497139   4/11/2020                           NaN\n",
       "497140   4/12/2020                           NaN\n",
       "497141   4/13/2020                           NaN\n",
       "497142   4/14/2020                           NaN\n",
       "...            ...                           ...\n",
       "1284236  8/11/2021                            No\n",
       "1284237  8/12/2021                            No\n",
       "1284238  8/13/2021                            No\n",
       "1284239  8/14/2021                            No\n",
       "1284240  8/15/2021                            No\n",
       "\n",
       "[493 rows x 2 columns]"
      ]
     },
     "execution_count": 57,
     "metadata": {},
     "output_type": "execute_result"
    }
   ],
   "source": [
    "df_policy_queens"
   ]
  },
  {
   "cell_type": "code",
   "execution_count": 58,
   "metadata": {},
   "outputs": [],
   "source": [
    "df_cases_t['date'] = df_cases_t.index"
   ]
  },
  {
   "cell_type": "code",
   "execution_count": 59,
   "metadata": {},
   "outputs": [
    {
     "data": {
      "text/plain": [
       "1/22/20      1/22/20\n",
       "1/23/20      1/23/20\n",
       "1/24/20      1/24/20\n",
       "1/25/20      1/25/20\n",
       "1/26/20      1/26/20\n",
       "              ...   \n",
       "10/30/21    10/30/21\n",
       "10/31/21    10/31/21\n",
       "11/1/21      11/1/21\n",
       "11/2/21      11/2/21\n",
       "11/3/21      11/3/21\n",
       "Name: date, Length: 652, dtype: object"
      ]
     },
     "execution_count": 59,
     "metadata": {},
     "output_type": "execute_result"
    }
   ],
   "source": [
    "df_cases_t['date']"
   ]
  },
  {
   "cell_type": "code",
   "execution_count": 60,
   "metadata": {},
   "outputs": [],
   "source": [
    "df_policy_queens['date'] = df_policy_queens['date'].str[:-4] + df_policy_queens['date'].str[-2:]"
   ]
  },
  {
   "cell_type": "code",
   "execution_count": 61,
   "metadata": {},
   "outputs": [],
   "source": [
    "df_merged = df_cases_t.merge(df_policy_queens, how='outer', left_on='date', right_on='date')\n",
    "df_merged['masks'] = (df_merged['Face_Masks_Required_in_Public'] == 'Yes') * 1"
   ]
  },
  {
   "cell_type": "code",
   "execution_count": 62,
   "metadata": {},
   "outputs": [
    {
     "data": {
      "text/html": [
       "<div>\n",
       "<style scoped>\n",
       "    .dataframe tbody tr th:only-of-type {\n",
       "        vertical-align: middle;\n",
       "    }\n",
       "\n",
       "    .dataframe tbody tr th {\n",
       "        vertical-align: top;\n",
       "    }\n",
       "\n",
       "    .dataframe thead th {\n",
       "        text-align: right;\n",
       "    }\n",
       "</style>\n",
       "<table border=\"1\" class=\"dataframe\">\n",
       "  <thead>\n",
       "    <tr style=\"text-align: right;\">\n",
       "      <th></th>\n",
       "      <th>Cases</th>\n",
       "      <th>increase</th>\n",
       "      <th>increase_percent</th>\n",
       "      <th>vel_increase</th>\n",
       "      <th>date</th>\n",
       "      <th>Face_Masks_Required_in_Public</th>\n",
       "      <th>masks</th>\n",
       "    </tr>\n",
       "  </thead>\n",
       "  <tbody>\n",
       "    <tr>\n",
       "      <th>0</th>\n",
       "      <td>0</td>\n",
       "      <td>NaN</td>\n",
       "      <td>NaN</td>\n",
       "      <td>NaN</td>\n",
       "      <td>1/22/20</td>\n",
       "      <td>NaN</td>\n",
       "      <td>0</td>\n",
       "    </tr>\n",
       "    <tr>\n",
       "      <th>1</th>\n",
       "      <td>0</td>\n",
       "      <td>0.0</td>\n",
       "      <td>NaN</td>\n",
       "      <td>NaN</td>\n",
       "      <td>1/23/20</td>\n",
       "      <td>NaN</td>\n",
       "      <td>0</td>\n",
       "    </tr>\n",
       "    <tr>\n",
       "      <th>2</th>\n",
       "      <td>0</td>\n",
       "      <td>0.0</td>\n",
       "      <td>NaN</td>\n",
       "      <td>0.0</td>\n",
       "      <td>1/24/20</td>\n",
       "      <td>NaN</td>\n",
       "      <td>0</td>\n",
       "    </tr>\n",
       "    <tr>\n",
       "      <th>3</th>\n",
       "      <td>0</td>\n",
       "      <td>0.0</td>\n",
       "      <td>NaN</td>\n",
       "      <td>0.0</td>\n",
       "      <td>1/25/20</td>\n",
       "      <td>NaN</td>\n",
       "      <td>0</td>\n",
       "    </tr>\n",
       "    <tr>\n",
       "      <th>4</th>\n",
       "      <td>0</td>\n",
       "      <td>0.0</td>\n",
       "      <td>NaN</td>\n",
       "      <td>0.0</td>\n",
       "      <td>1/26/20</td>\n",
       "      <td>NaN</td>\n",
       "      <td>0</td>\n",
       "    </tr>\n",
       "    <tr>\n",
       "      <th>...</th>\n",
       "      <td>...</td>\n",
       "      <td>...</td>\n",
       "      <td>...</td>\n",
       "      <td>...</td>\n",
       "      <td>...</td>\n",
       "      <td>...</td>\n",
       "      <td>...</td>\n",
       "    </tr>\n",
       "    <tr>\n",
       "      <th>647</th>\n",
       "      <td>316837</td>\n",
       "      <td>0.0</td>\n",
       "      <td>0.000000</td>\n",
       "      <td>-315.0</td>\n",
       "      <td>10/30/21</td>\n",
       "      <td>NaN</td>\n",
       "      <td>0</td>\n",
       "    </tr>\n",
       "    <tr>\n",
       "      <th>648</th>\n",
       "      <td>316837</td>\n",
       "      <td>0.0</td>\n",
       "      <td>0.000000</td>\n",
       "      <td>0.0</td>\n",
       "      <td>10/31/21</td>\n",
       "      <td>NaN</td>\n",
       "      <td>0</td>\n",
       "    </tr>\n",
       "    <tr>\n",
       "      <th>649</th>\n",
       "      <td>317545</td>\n",
       "      <td>708.0</td>\n",
       "      <td>0.002230</td>\n",
       "      <td>708.0</td>\n",
       "      <td>11/1/21</td>\n",
       "      <td>NaN</td>\n",
       "      <td>0</td>\n",
       "    </tr>\n",
       "    <tr>\n",
       "      <th>650</th>\n",
       "      <td>317667</td>\n",
       "      <td>122.0</td>\n",
       "      <td>0.000384</td>\n",
       "      <td>-586.0</td>\n",
       "      <td>11/2/21</td>\n",
       "      <td>NaN</td>\n",
       "      <td>0</td>\n",
       "    </tr>\n",
       "    <tr>\n",
       "      <th>651</th>\n",
       "      <td>317855</td>\n",
       "      <td>188.0</td>\n",
       "      <td>0.000591</td>\n",
       "      <td>66.0</td>\n",
       "      <td>11/3/21</td>\n",
       "      <td>NaN</td>\n",
       "      <td>0</td>\n",
       "    </tr>\n",
       "  </tbody>\n",
       "</table>\n",
       "<p>652 rows × 7 columns</p>\n",
       "</div>"
      ],
      "text/plain": [
       "      Cases  increase  increase_percent  vel_increase      date  \\\n",
       "0         0       NaN               NaN           NaN   1/22/20   \n",
       "1         0       0.0               NaN           NaN   1/23/20   \n",
       "2         0       0.0               NaN           0.0   1/24/20   \n",
       "3         0       0.0               NaN           0.0   1/25/20   \n",
       "4         0       0.0               NaN           0.0   1/26/20   \n",
       "..      ...       ...               ...           ...       ...   \n",
       "647  316837       0.0          0.000000        -315.0  10/30/21   \n",
       "648  316837       0.0          0.000000           0.0  10/31/21   \n",
       "649  317545     708.0          0.002230         708.0   11/1/21   \n",
       "650  317667     122.0          0.000384        -586.0   11/2/21   \n",
       "651  317855     188.0          0.000591          66.0   11/3/21   \n",
       "\n",
       "    Face_Masks_Required_in_Public  masks  \n",
       "0                             NaN      0  \n",
       "1                             NaN      0  \n",
       "2                             NaN      0  \n",
       "3                             NaN      0  \n",
       "4                             NaN      0  \n",
       "..                            ...    ...  \n",
       "647                           NaN      0  \n",
       "648                           NaN      0  \n",
       "649                           NaN      0  \n",
       "650                           NaN      0  \n",
       "651                           NaN      0  \n",
       "\n",
       "[652 rows x 7 columns]"
      ]
     },
     "execution_count": 62,
     "metadata": {},
     "output_type": "execute_result"
    }
   ],
   "source": [
    "df_merged"
   ]
  },
  {
   "cell_type": "code",
   "execution_count": null,
   "metadata": {},
   "outputs": [],
   "source": []
  },
  {
   "cell_type": "code",
   "execution_count": 63,
   "metadata": {},
   "outputs": [
    {
     "data": {
      "image/png": "[encoded data removed]",
      "text/plain": [
       "<Figure size 1332x756 with 1 Axes>"
      ]
     },
     "metadata": {
      "needs_background": "light"
     },
     "output_type": "display_data"
    }
   ],
   "source": [
    "import matplotlib.pyplot as plt\n",
    "fig,ax = plt.subplots()\n",
    "fig.set_size_inches(18.5, 10.5)\n",
    "\n",
    "plt.xlabel('Date M/DD/YY')\n",
    "ax.plot(df_merged['vel_increase'], color='red')\n",
    "ax.legend(['Additional New Cases'])\n",
    "plt.xticks(df_merged.index.values.tolist()[::40], df_merged['date'][::40])\n",
    "plt.ylabel('Additional New Cases Compared to the Previous Day')\n",
    "ax.axvspan(df_merged[df_merged['masks'] == 1].head(1).index[0], df_merged[df_merged['masks'] == 1].tail(1).index[0])\n",
    "plt.title('Additional New Covid Cases Compared to the Previous Day in Queens County, New York')\n",
    "plt.figtext(0.3, 0.5,'The blue shaded region corresponds to the days where there was a\\nmask mandate in effect in Queens County.', color='white')\n",
    "plt.show()\n",
    "fig.savefig(folder_path + \"figure.png\")"
   ]
  },
  {
   "cell_type": "code",
   "execution_count": 64,
   "metadata": {},
   "outputs": [],
   "source": [
    "df_merged['masks'] = (df_merged['Face_Masks_Required_in_Public'] == 'Yes') * 1"
   ]
  },
  {
   "cell_type": "code",
   "execution_count": 65,
   "metadata": {},
   "outputs": [
    {
     "data": {
      "text/plain": [
       "86"
      ]
     },
     "execution_count": 65,
     "metadata": {},
     "output_type": "execute_result"
    }
   ],
   "source": [
    "df_merged[df_merged['masks'] == 1].head(1).index[0]"
   ]
  },
  {
   "cell_type": "code",
   "execution_count": 66,
   "metadata": {},
   "outputs": [
    {
     "data": {
      "text/plain": [
       "Int64Index([519], dtype='int64')"
      ]
     },
     "execution_count": 66,
     "metadata": {},
     "output_type": "execute_result"
    }
   ],
   "source": [
    "df_merged[df_merged['masks'] == 1].tail(1).index"
   ]
  },
  {
   "cell_type": "code",
   "execution_count": null,
   "metadata": {},
   "outputs": [],
   "source": []
  }
 ],
 "metadata": {
  "kernelspec": {
   "display_name": "Python 3",
   "language": "python",
   "name": "python3"
  },
  "language_info": {
   "codemirror_mode": {
    "name": "ipython",
    "version": 3
   },
   "file_extension": ".py",
   "mimetype": "text/x-python",
   "name": "python",
   "nbconvert_exporter": "python",
   "pygments_lexer": "ipython3",
   "version": "3.8.8"
  }
 },
 "nbformat": 4,
 "nbformat_minor": 2
}
